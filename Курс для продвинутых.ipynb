{
 "cells": [
  {
   "cell_type": "markdown",
   "metadata": {},
   "source": [
    "## Задачи из курса \"Поколение Python: курс для продвинутых\" и их решения.\n",
    "---"
   ]
  },
  {
   "cell_type": "markdown",
   "metadata": {},
   "source": [
    "### Повторяем основные конструкции языка Python"
   ]
  },
  {
   "cell_type": "markdown",
   "metadata": {},
   "source": [
    "**_Камень, ножницы, бумага, ящерица, Спок_**\n",
    "\n",
    "Проиграв $10$ раз Тимуру, Руслан понял, что так дело дальше не пойдет, и решил усложнить игру. Теперь Тимур и Руслан играют в игру __Камень, ножницы, бумага, ящерица, Спок__. Помогите ребятам вновь бросить честный жребий и определить, кто будет делать следующий модуль в новом курсе.\n",
    "\n",
    "__Формат входных данных__  \n",
    "На вход программе подаются две строки текста, содержащие по одному слову из перечня \"камень\", \"ножницы\", \"бумага\", \"ящерица\" или \"Спок\". На первой строке записан выбор Тимура, на второй – выбор Руслана.\n",
    "\n",
    "__Формат выходных данных__  \n",
    "Программа должна вывести результат жеребьёвки: кто победил - Тимур или Руслан, или они сыграли вничью."
   ]
  },
  {
   "cell_type": "markdown",
   "metadata": {},
   "source": [
    "**_Решение:_**"
   ]
  },
  {
   "cell_type": "code",
   "execution_count": 2,
   "metadata": {},
   "outputs": [
    {
     "name": "stdout",
     "output_type": "stream",
     "text": [
      "бумага\n",
      "камень\n",
      "Тимур\n"
     ]
    }
   ],
   "source": [
    "timur, ruslan = input(), input()\n",
    "knb = [\n",
    "    'каменьножницы', 'каменьящерица', 'ножницыбумага', 'ножницыящерица', 'бумагакамень', 'бумагаСпок',\n",
    "    'Споккамень', 'Спокножницы', 'ящерицабумага', 'ящерицаСпок'\n",
    "]\n",
    "if timur == ruslan:\n",
    "    winner = 'ничья'\n",
    "elif timur + ruslan in knb:\n",
    "    winner = 'Тимур'\n",
    "else:\n",
    "    winner = 'Руслан'\n",
    "print(winner)\n"
   ]
  },
  {
   "cell_type": "markdown",
   "metadata": {},
   "source": [
    "**_Произведение чисел_**\n",
    "\n",
    "Напишите программу для определения, является ли число произведением двух чисел из данного набора, выводящую результат в виде ответа «ДА» или «НЕТ».\n",
    "\n",
    "__Формат входных данных__  \n",
    "В первой строке подаётся число $n \\, (0 < n < 1000)$ – количество чисел в наборе. В последующих $n$ строках вводятся целые числа, составляющие набор (могут повторяться). Затем следует целое число, которое является или не является произведением двух каких-то чисел из набора.\n",
    "\n",
    "__Формат выходных данных__  \n",
    "Программа должна вывести «ДА» или «НЕТ» в соответствии с условием задачи."
   ]
  },
  {
   "cell_type": "markdown",
   "metadata": {},
   "source": [
    "**_Решение:_**"
   ]
  },
  {
   "cell_type": "code",
   "execution_count": 6,
   "metadata": {},
   "outputs": [
    {
     "name": "stdout",
     "output_type": "stream",
     "text": [
      "3\n",
      "33\n",
      "17\n",
      "35\n",
      "999\n",
      "НЕТ\n"
     ]
    }
   ],
   "source": [
    "n1 = int(input())\n",
    "nums = [int(input()) for i in range(n1)]\n",
    "prod = [nums[i] * nums[j] for i in range(1, len(nums)) for j in range(len(nums)) if i != j]\n",
    "n2 = int(input())\n",
    "if n1 == 1 or n2 not in prod:\n",
    "    print('НЕТ')\n",
    "else:\n",
    "    print('ДА')\n",
    "    "
   ]
  },
  {
   "cell_type": "markdown",
   "metadata": {},
   "source": [
    "**_Кремниевая долина_**\n",
    "\n",
    "Искусственный интеллект Антон, созданный Гилфойлом, взломал сеть умных холодильников. Теперь он использует их в качестве серверов \"Пегого дудочника\". Помогите владельцу фирмы отыскать все зараженные холодильники.\n",
    "\n",
    "Для каждого холодильника существует строка с данными, состоящая из строчных букв и цифр, и если в ней присутствует слово \"anton\" (необязательно рядом стоящие буквы, главное наличие последовательности букв), то холодильник заражен и нужно вывести номер холодильника, нумерация начинается с единицы.\n",
    "\n",
    "__Формат входных данных__  \n",
    "В первой строке подаётся число $n$ – количество холодильников. В последующих $n$ строках вводятся строки, содержащие латинские строчные буквы и цифры, в каждой строке от $5$ до $100$ символов.\n",
    "\n",
    "__Формат выходных данных__  \n",
    "Программа должна вывести номера зараженных холодильников через пробел. Если таких холодильников нет, ничего выводить не нужно."
   ]
  },
  {
   "cell_type": "markdown",
   "metadata": {},
   "source": [
    "**_Решение:_**"
   ]
  },
  {
   "cell_type": "code",
   "execution_count": 3,
   "metadata": {},
   "outputs": [
    {
     "name": "stdout",
     "output_type": "stream",
     "text": [
      "6\n",
      "222anton456\n",
      "a1n1t1o1n1\n",
      "0000a0000n00t00000o000000n\n",
      "gylfole\n",
      "richard\n",
      "ant0n\n",
      "1 2 3 "
     ]
    }
   ],
   "source": [
    "words = [input() for _ in range(int(input()))]\n",
    "name = list('anton')\n",
    "result_list = []\n",
    "\n",
    "for word in range(len(words)):\n",
    "    result_list.clear()\n",
    "    i = 0\n",
    "    for letter in words[word]:\n",
    "        if letter == name[i]:\n",
    "            result_list.append(letter)\n",
    "            i += 1\n",
    "            if i == len(name):\n",
    "                break\n",
    "    if result_list == name:\n",
    "        print(word + 1, end=' ')\n",
    "        "
   ]
  },
  {
   "cell_type": "markdown",
   "metadata": {},
   "source": [
    "**_Роскомнадзор запретил букву а_**\n",
    "\n",
    "Необходимо написать программу, реализующую алгоритм написания [этой](https://www.youtube.com/watch?v=sAuMERnj-FU) песни. Алгоритм выводит в конце предложения следующую в алфавитном порядке букву, если она встречается в строке текста, а очередную строку отображает уже без этой буквы.\n",
    "\n",
    "__Формат входных данных__  \n",
    "На вход программе подается одно слово, записанное строчными русскими буквами без буквы \"ё\".\n",
    "\n",
    "__Формат выходных данных__  \n",
    "Программа должна вывести в соответствии с указанным алгоритмом строки, количество которых равно количеству разных букв в строке, которая получается путем конкатенации введенного слова и строки \"запретил букву\"."
   ]
  },
  {
   "cell_type": "markdown",
   "metadata": {},
   "source": [
    "**_Решение:_**"
   ]
  },
  {
   "cell_type": "code",
   "execution_count": 4,
   "metadata": {
    "scrolled": true
   },
   "outputs": [
    {
     "name": "stdout",
     "output_type": "stream",
     "text": [
      "роскомнадзор\n",
      "роскомнадзор запретил букву а\n",
      "роскомндзор зпретил букву б\n",
      "роскомндзор зпретил укву в\n",
      "роскомндзор зпретил уку д\n",
      "роскомнзор зпретил уку е\n",
      "роскомнзор зпртил уку з\n",
      "роскомнор пртил уку и\n",
      "роскомнор пртл уку к\n",
      "росомнор пртл уу л\n",
      "росомнор прт уу м\n",
      "росонор прт уу н\n",
      "росоор прт уу о\n",
      "рср прт уу п\n",
      "рср рт уу р\n",
      "с т уу с\n",
      "т уу т\n",
      "уу у\n"
     ]
    }
   ],
   "source": [
    "txt = input() + ' запретил букву'\n",
    "alpha = [chr(i) for i in range(ord('а'), ord('я') + 1)]\n",
    "\n",
    "for letter in alpha:    \n",
    "    if letter in txt:\n",
    "        print(txt.strip().replace('  ', ' ') + ' ' + letter)\n",
    "        txt = txt.replace(letter, '')\n"
   ]
  },
  {
   "cell_type": "markdown",
   "metadata": {},
   "source": [
    "### Вложенные списки"
   ]
  },
  {
   "cell_type": "markdown",
   "metadata": {},
   "source": [
    "**_Треугольник Паскаля_**\n",
    "\n",
    "Треугольник Паскаля — бесконечная таблица биномиальных коэффициентов, имеющая треугольную форму. В этом треугольнике на вершине и по бокам стоят единицы. Каждое число равно сумме двух расположенных над ним чисел.\n",
    "\n",
    "На вход программе подается число $n$. Напишите программу, которая возвращает указанную строку треугольника Паскаля в виде списка (нумерация строк начинается с нуля).\n",
    "\n",
    "__Формат входных данных__  \n",
    "На вход программе подается число $n \\, (n \\ge 0)$.\n",
    "\n",
    "__Формат выходных данных__  \n",
    "Программа должна вывести указанную строку треугольника Паскаля в виде списка."
   ]
  },
  {
   "cell_type": "markdown",
   "metadata": {},
   "source": [
    "**_Решение:_**"
   ]
  },
  {
   "cell_type": "code",
   "execution_count": 8,
   "metadata": {},
   "outputs": [
    {
     "name": "stdout",
     "output_type": "stream",
     "text": [
      "15\n",
      "[1, 15, 105, 455, 1365, 3003, 5005, 6435, 6435, 5005, 3003, 1365, 455, 105, 15, 1]\n"
     ]
    }
   ],
   "source": [
    "import math\n",
    "\n",
    "n = int(input())\n",
    "result = [int((math.factorial(n)) / (math.factorial(elem) * math.factorial(n - elem))) for elem in range(n + 1)]\n",
    "print(result)\n"
   ]
  },
  {
   "cell_type": "markdown",
   "metadata": {},
   "source": [
    "**_Упаковка дубликатов_**\n",
    "\n",
    "На вход программе подается строка текста, содержащая символы. Напишите программу, которая упаковывает последовательности одинаковых символов заданной строки в подсписки.\n",
    "\n",
    "__Формат входных данных__  \n",
    "На вход программе подается строка текста, содержащая символы, отделенные символом пробела.\n",
    "\n",
    "__Формат выходных данных__  \n",
    "Программа должна вывести указанный вложенный список."
   ]
  },
  {
   "cell_type": "markdown",
   "metadata": {},
   "source": [
    "**_Решение:_**"
   ]
  },
  {
   "cell_type": "code",
   "execution_count": 9,
   "metadata": {},
   "outputs": [
    {
     "name": "stdout",
     "output_type": "stream",
     "text": [
      "g i v e t h h i i s m a a a n a g u u n\n",
      "[['g'], ['i'], ['v'], ['e'], ['t'], ['h', 'h'], ['i', 'i'], ['s'], ['m'], ['a', 'a', 'a'], ['n'], ['a'], ['g'], ['u', 'u'], ['n']]\n"
     ]
    }
   ],
   "source": [
    "n = input().split()\n",
    "result_list = [[n[0]]]\n",
    "\n",
    "for i in range(1, len(n)):    \n",
    "    if n[i] == n[i - 1]:\n",
    "        result_list[-1].append(n[i])\n",
    "    else:\n",
    "        result_list.append([n[i]])  \n",
    "        \n",
    "print(result_list)\n"
   ]
  },
  {
   "cell_type": "markdown",
   "metadata": {},
   "source": [
    "**_Разбиение на чанки_**\n",
    "\n",
    "На вход программе подаются две строки, на одной символы, на другой число $n$. Из первой строки формируется список.\n",
    "\n",
    "Реализуйте функцию `chunked()`, которая принимает на вход список и число, задающее размер чанка (куска), а возвращает список из чанков указанной длины.\n",
    "\n",
    "__Формат входных данных__  \n",
    "На вход программе подается строка текста, содержащая символы, отделенные символом пробела и число $n$ на отдельной строке.\n",
    "\n",
    "__Формат выходных данных__  \n",
    "Программа должна вывести указанный вложенный список."
   ]
  },
  {
   "cell_type": "markdown",
   "metadata": {},
   "source": [
    "**_Решение:_**"
   ]
  },
  {
   "cell_type": "code",
   "execution_count": 10,
   "metadata": {},
   "outputs": [
    {
     "name": "stdout",
     "output_type": "stream",
     "text": [
      "a b c d e f\n",
      "2\n",
      "[['a', 'b'], ['c', 'd'], ['e', 'f']]\n"
     ]
    }
   ],
   "source": [
    "import math\n",
    "\n",
    "\n",
    "def chunked(s, num):\n",
    "    s = s.split()\n",
    "    result_list = [[] for _ in range(math.ceil(len(s) / num))]\n",
    "    for i in range(len(s)):\n",
    "        result_list[i // num].append(s[i])\n",
    "    return result_list\n",
    "\n",
    "\n",
    "word, n = input(), int(input())\n",
    "print(chunked(word, n))\n"
   ]
  },
  {
   "cell_type": "markdown",
   "metadata": {},
   "source": [
    "**_Подсписки списка_**\n",
    "\n",
    "Подсписок — часть другого списка. Подсписок может содержать один элемент, несколько, и даже ни одного. Например, `[1]`, `[2]`, `[3]` и `[4]` — подсписки списка `[1, 2, 3, 4]`. Список `[2, 3]` — подсписок списка `[1, 2, 3, 4]`, но список `[2, 4]` не подсписок списка `[1, 2, 3, 4]`, так как элементы $2$ и $4$ во втором списке не смежные. Пустой список — подсписок любого списка. Сам список — подсписок самого себя, то есть список `[1, 2, 3, 4]` подсписок списка `[1, 2, 3, 4]`.\n",
    "\n",
    "__Формат входных данных__  \n",
    "На вход программе подается строка текста, содержащая символы, отделенные символом пробела.\n",
    "\n",
    "__Формат выходных данных__  \n",
    "Программа должна вывести указанный список, содержащий все возможные подсписки, включая пустой список в соответствии с примерами."
   ]
  },
  {
   "cell_type": "markdown",
   "metadata": {},
   "source": [
    "**_Решение:_**"
   ]
  },
  {
   "cell_type": "code",
   "execution_count": 11,
   "metadata": {},
   "outputs": [
    {
     "name": "stdout",
     "output_type": "stream",
     "text": [
      "a b v\n",
      "[[], ['a'], ['b'], ['v'], ['a', 'b'], ['b', 'v'], ['a', 'b', 'v']]\n"
     ]
    }
   ],
   "source": [
    "word = input().split()\n",
    "result_list = [[]]\n",
    "\n",
    "for i in range(1, len(word) + 1):\n",
    "    for j in range(len(word)): \n",
    "        if j <= len(word) - i:\n",
    "            result_list.append(word[j:i + j])  \n",
    "            \n",
    "print(result_list)\n"
   ]
  },
  {
   "cell_type": "markdown",
   "metadata": {},
   "source": [
    "### Матрицы"
   ]
  },
  {
   "attachments": {
    "2021-01-03_16-49-34.png": {
     "image/png": "[encoded data removed]"
    }
   },
   "cell_type": "markdown",
   "metadata": {},
   "source": [
    "**_Максимальный в области_**\n",
    "\n",
    "Напишите программу, которая выводит максимальный элемент в заштрихованной области квадратной матрицы.\n",
    "\n",
    "![2021-01-03_16-49-34.png](attachment:2021-01-03_16-49-34.png)\n",
    "\n",
    "__Формат входных данных__  \n",
    "На вход программе подаётся натуральное число $n$ — количество строк и столбцов в матрице, затем элементы матрицы (целые числа) построчно через пробел.\n",
    "\n",
    "__Формат выходных данных__  \n",
    "Программа должна вывести одно число — максимальный элемент в заштрихованной области квадратной матрицы."
   ]
  },
  {
   "cell_type": "markdown",
   "metadata": {},
   "source": [
    "**_Решение:_**"
   ]
  },
  {
   "cell_type": "code",
   "execution_count": 12,
   "metadata": {},
   "outputs": [
    {
     "name": "stdout",
     "output_type": "stream",
     "text": [
      "3\n",
      "1 4 5\n",
      "6 7 8\n",
      "1 1 6\n",
      "8\n"
     ]
    }
   ],
   "source": [
    "n = int(input())\n",
    "matrix = [input().split() for i in range(n)]\n",
    "largest = -9999\n",
    "\n",
    "for i in range(n):\n",
    "    for j in range(n):\n",
    "        if (i >= j and i <= n - 1 - j) or (i <= j and i >= n - 1 - j):\n",
    "            if largest < int(matrix[i][j]):\n",
    "                largest = int(matrix[i][j])\n",
    "                \n",
    "print(largest)\n"
   ]
  },
  {
   "cell_type": "markdown",
   "metadata": {},
   "source": [
    "**_Магический квадрат_**\n",
    "\n",
    "Магическим квадратом порядка $n$ называется квадратная таблица размера $n \\times n$, составленная из всех чисел $1, 2, 3, \\ldots, n^2$ так, что суммы по каждому столбцу, каждой строке и каждой из двух диагоналей равны между собой. Напишите программу, которая проверяет, является ли заданная квадратная матрица магическим квадратом.\n",
    "\n",
    "__Формат входных данных__  \n",
    "На вход программе подаётся натуральное число $n$ — количество строк и столбцов в матрице, затем элементы матрицы: $n$ строк, по $n$ чисел в каждой, разделённые пробелами.\n",
    "\n",
    "__Формат выходных данных__  \n",
    "Программа должна вывести слово `YES`, если матрица является магическим квадратом, и слово `NO` в противном случае."
   ]
  },
  {
   "cell_type": "markdown",
   "metadata": {},
   "source": [
    "**_Решение:_**"
   ]
  },
  {
   "cell_type": "code",
   "execution_count": 14,
   "metadata": {},
   "outputs": [
    {
     "name": "stdout",
     "output_type": "stream",
     "text": [
      "3\n",
      "8 1 6\n",
      "3 5 7\n",
      "4 9 2\n",
      "YES\n"
     ]
    }
   ],
   "source": [
    "n = int(input())\n",
    "total = sum(range(n ** 2 + 1)) / n\n",
    "matrix = [[int(i) for i in input().split()] for _ in range(n)]\n",
    "flag = True\n",
    "res1, res2 = 0, 0\n",
    "counter = 0\n",
    "\n",
    "for i in range(n):\n",
    "    for j in range(n):\n",
    "        if matrix[i].count(matrix[i][j]) > 1:\n",
    "            flag = False\n",
    "\n",
    "for row in matrix:\n",
    "    if sum(row) != total:\n",
    "        flag = False\n",
    "\n",
    "for i in range(n):\n",
    "    res1 += matrix[i][i]\n",
    "    res2 += matrix[i][n - i - 1]\n",
    "if res1 and res2 != total:\n",
    "    flag = False\n",
    "\n",
    "for i in range(n):\n",
    "    res = 0\n",
    "    for j in range(n):\n",
    "        res += matrix[j][i]\n",
    "    if res != total:\n",
    "        flag = False\n",
    "if flag:\n",
    "    print('YES')\n",
    "else:\n",
    "    print('NO')\n",
    "    "
   ]
  },
  {
   "attachments": {
    "sdas.png": {
     "image/png": "[encoded data removed]"
    }
   },
   "cell_type": "markdown",
   "metadata": {},
   "source": [
    "**_Заполнение_**\n",
    "\n",
    "На вход программе подаются два натуральных числа $n$ и $m$. Напишите программу, которая создает матрицу размером $n \\times m$ заполнив её в соответствии с образцом.\n",
    "\n",
    "![sdas.png](attachment:sdas.png)\n",
    "\n",
    "__Формат входных данных__  \n",
    "На вход программе на одной строке подаются два натуральных числа $n$ и $m$ — количество строк и столбцов в матрице.\n",
    "\n",
    "__Формат выходных данных__  \n",
    "Программа должна вывести указанную матрицу в соответствии с образцом."
   ]
  },
  {
   "cell_type": "markdown",
   "metadata": {},
   "source": [
    "**_Решение:_**"
   ]
  },
  {
   "cell_type": "code",
   "execution_count": 16,
   "metadata": {},
   "outputs": [
    {
     "name": "stdout",
     "output_type": "stream",
     "text": [
      "5 5\n",
      "1 2 3 4 5\n",
      "2 3 4 5 1\n",
      "3 4 5 1 2\n",
      "4 5 1 2 3\n",
      "5 1 2 3 4\n"
     ]
    }
   ],
   "source": [
    "n, m = [int(i) for i in input().split()]\n",
    "matrix = []\n",
    "\n",
    "for i in range(1, n + 1):\n",
    "    row = []\n",
    "    for j in range(i, m + i):\n",
    "        if j <= m:\n",
    "            row.append(j)\n",
    "        elif j % m == 0:\n",
    "            row.append(m)\n",
    "        else:\n",
    "            row.append(j - m * (j // m))\n",
    "    matrix.append(row)\n",
    "\n",
    "for row in matrix:\n",
    "    print(*row)\n",
    "    "
   ]
  },
  {
   "attachments": {
    "gtgt.png": {
     "image/png": "[encoded data removed]"
    }
   },
   "cell_type": "markdown",
   "metadata": {},
   "source": [
    "**_Заполнение диагоналями_**\n",
    "\n",
    "На вход программе подаются два натуральных числа $n$ и $m$. Напишите программу, которая создает матрицу размером $n \\times m$ заполнив её \"диагоналями\" в соответствии с образцом.\n",
    "\n",
    "![gtgt.png](attachment:gtgt.png)\n",
    "\n",
    "__Формат входных данных__  \n",
    "На вход программе на одной строке подаются два натуральных числа $n$ и $m$ — количество строк и столбцов в матрице.\n",
    "\n",
    "__Формат выходных данных__  \n",
    "Программа должна вывести указанную матрицу в соответствии с образцом."
   ]
  },
  {
   "cell_type": "markdown",
   "metadata": {},
   "source": [
    "**_Решение:_**"
   ]
  },
  {
   "cell_type": "code",
   "execution_count": 17,
   "metadata": {},
   "outputs": [
    {
     "name": "stdout",
     "output_type": "stream",
     "text": [
      "3 5\n",
      "1 2 4 7 10\n",
      "3 5 8 11 13\n",
      "6 9 12 14 15\n"
     ]
    }
   ],
   "source": [
    "n, m = [int(i) for i in input().split()]\n",
    "matrix = [[1] * m for _ in range(n)]\n",
    "sym = 1\n",
    "\n",
    "for k in range(0, m + n + 1):\n",
    "    for i in range(n):\n",
    "        for j in range(m):\n",
    "            if i + j == k:\n",
    "                matrix[i][j] = sym\n",
    "                sym += 1\n",
    "                \n",
    "for row in matrix:\n",
    "    print(*row)\n",
    "    "
   ]
  },
  {
   "cell_type": "markdown",
   "metadata": {},
   "source": [
    "**_Латинский квадрат_**\n",
    "\n",
    "Латинским квадратом порядка $n$ называется квадратная матрица размером $n \\times n$, каждая строка и каждый столбец которой содержат все числа от $1$ до $n$. Напишите программу, которая проверяет, является ли заданная квадратная матрица латинским квадратом.\n",
    "\n",
    "__Формат входных данных__  \n",
    "На вход программе подаётся натуральное число $n$ — количество строк и столбцов в матрице, затем элементы матрицы: $n$ строк, по $n$ чисел в каждой, разделённые пробелами.\n",
    "\n",
    "__Формат выходных данных__  \n",
    "Программа должна вывести слово `YES`, если матрица является латинским квадратом, и слово `NO`, если не является."
   ]
  },
  {
   "cell_type": "markdown",
   "metadata": {},
   "source": [
    "**_Решение:_**"
   ]
  },
  {
   "cell_type": "code",
   "execution_count": 19,
   "metadata": {},
   "outputs": [
    {
     "name": "stdout",
     "output_type": "stream",
     "text": [
      "4\n",
      "2 3 4 1\n",
      "3 4 1 2\n",
      "4 1 2 3\n",
      "1 2 3 4\n",
      "YES\n"
     ]
    }
   ],
   "source": [
    "import copy\n",
    "\n",
    "n = int(input())\n",
    "matrix = [[int(j) for j in input().split()] for i in range(n)]\n",
    "matrix_copy = copy.deepcopy(matrix)\n",
    "flag = True\n",
    "\n",
    "for i in range(n):\n",
    "    for j in range(i, n):\n",
    "        matrix_copy[i][j], matrix_copy[j][i] = matrix_copy[j][i], matrix_copy[i][j]\n",
    "\n",
    "for row1 in matrix:\n",
    "    row1.sort()\n",
    "    if row1 != list(range(1, n + 1)):\n",
    "        flag = False\n",
    "        break\n",
    "\n",
    "for row2 in matrix_copy:\n",
    "    row2.sort()\n",
    "    if row2 != list(range(1, n + 1)):\n",
    "        flag = False\n",
    "        break\n",
    "\n",
    "if flag:\n",
    "    print('YES')\n",
    "else:\n",
    "    print('NO')\n",
    "    "
   ]
  },
  {
   "cell_type": "markdown",
   "metadata": {},
   "source": [
    "**_Ходы ферзя_**\n",
    "\n",
    "На шахматной доске $8 \\times 8$ стоит ферзь. Отметьте положение ферзя на доске и все клетки, которые бьет ферзь. Клетку, где стоит ферзь, отметьте буквой `Q`, клетки, которые бьет ферзь, отметьте символами `*`, остальные клетки заполните точками.\n",
    "\n",
    "__Формат входных данных__  \n",
    "На вход программе подаются координаты ферзя на шахматной доске в шахматной нотации (то есть в виде `e4`, где сначала записывается номер столбца (буква от `a` до `h`, слева направо), затем номер строки (цифра от $1$ до $8$, снизу вверх)).\n",
    "\n",
    "__Формат выходных данных__  \n",
    "Программа должна вывести на экран изображение доски, разделяя элементы пробелами."
   ]
  },
  {
   "cell_type": "markdown",
   "metadata": {},
   "source": [
    "**_Решение:_**"
   ]
  },
  {
   "cell_type": "code",
   "execution_count": 23,
   "metadata": {},
   "outputs": [
    {
     "name": "stdout",
     "output_type": "stream",
     "text": [
      "e4\n",
      "* . . . * . . .\n",
      ". * . . * . . *\n",
      ". . * . * . * .\n",
      ". . . * * * . .\n",
      "* * * * Q * * *\n",
      ". . . * * * . .\n",
      ". . * . * . * .\n",
      ". * . . * . . *\n"
     ]
    }
   ],
   "source": [
    "place = input()\n",
    "alpha, digit = 'abcdefgh', '12345678'\n",
    "Q = [int(digit[i]) for i in range(len(digit)) if digit[i] in place] + \\\n",
    "    [i + 1 for i in range(len(alpha)) if alpha[i] in place]\n",
    "matrix = []\n",
    "\n",
    "for i in range(len(alpha), 0, -1):\n",
    "    row = []\n",
    "    for j in range(1, len(alpha) + 1):\n",
    "        if i == Q[0] and j == Q[1]:            \n",
    "            row.append('Q')         \n",
    "        elif i == Q[0] or j == Q[1]:\n",
    "            row.append('*')\n",
    "        elif abs(Q[0] - i) == abs(Q[1] - j):\n",
    "            row.append('*')\n",
    "        else:\n",
    "            row.append('.')\n",
    "    matrix.append(row)\n",
    "    \n",
    "for row in matrix:\n",
    "    print(*row, sep=' ')\n",
    "    "
   ]
  },
  {
   "cell_type": "markdown",
   "metadata": {},
   "source": [
    "### Множества"
   ]
  },
  {
   "cell_type": "markdown",
   "metadata": {},
   "source": [
    "**_Книги на прочтение_**\n",
    "\n",
    "Ученики $10$ класса онлайн-школы BEEGEEK получили задание прочесть на летних каникулах три книги:\n",
    "\n",
    " - \"Что такое математика?\";\n",
    " - \"Математическая составляющая\";\n",
    " - \"100 гениальных идей по математике\".\n",
    " \n",
    "Оказалось, что $n$ учеников прочитали первую книгу, $m$ учеников — вторую, $k$ учеников — третью. Также известно, что $x$ учеников прочли первую или вторую, или обе эти книги, $y$ учеников — вторую или третью, или обе, $z$ учеников — первую и третью, или хотя бы одну из этих двух книг. Полностью выполнили задание только $t$ учеников. Всего в $10$ классе учится $a$ учеников. Напишите программу, которая выводит сколько учеников:\n",
    "\n",
    " - прочитали только одну книгу;\n",
    " - прочитали две книги;\n",
    " - не прочитали ни одной из рекомендованных книг.\n",
    " \n",
    "__Формат входных данных__  \n",
    "На вход программе подаются числа $n, m, k, x, y, z, t, a$ каждое на отдельной строке.\n",
    "\n",
    "__Формат выходных данных__  \n",
    "Программа должна вывести три числа в соответствии с условием задачи, каждое на отдельной строке."
   ]
  },
  {
   "cell_type": "markdown",
   "metadata": {},
   "source": [
    "**_Решение:_**"
   ]
  },
  {
   "cell_type": "code",
   "execution_count": 24,
   "metadata": {},
   "outputs": [
    {
     "name": "stdout",
     "output_type": "stream",
     "text": [
      "19\n",
      "18\n",
      "22\n",
      "32\n",
      "33\n",
      "35\n",
      "2\n",
      "50\n",
      "29\n",
      "12\n",
      "7\n"
     ]
    }
   ],
   "source": [
    "n, m, k, x, y, z, t, a = [int(input()) for _ in range(8)]\n",
    "n_m = n + m - x - t\n",
    "n_k = n + k - z - t\n",
    "m_k = m + k - y - t\n",
    "o_n = n - n_m - n_k - t\n",
    "o_m = m - n_m - m_k - t\n",
    "o_k = k - n_k - m_k - t\n",
    "\n",
    "print(o_n + o_m + o_k)\n",
    "print(n_m + n_k + m_k)\n",
    "print(a - (o_n + o_m + o_k + n_m + n_k + m_k + t))\n"
   ]
  },
  {
   "cell_type": "markdown",
   "metadata": {},
   "source": [
    "**_Онлайн-школа BEEGEEK 1_**\n",
    "\n",
    "Каждый ученик, обучающийся в онлайн-школе BEEGEEK изучает либо математику, либо информатику, либо оба этих предмета. У руководителя школы есть списки учеников, изучающих каждый предмет. Случайно списки всех учеников перемешались.\n",
    "\n",
    "Напишите программу, которая позволит руководителю выяснить, сколько учеников изучает только один предмет.\n",
    "\n",
    "__Формат входных данных__  \n",
    "На вход программе в первых двух строках подаются числа $m$ и $n$ – количества учеников, изучающих математику и информатику соответственно. Далее идут $m+n$ строк — фамилии учеников, изучающих математику и информатику, в произвольном порядке.\n",
    "\n",
    "__Формат выходных данных__  \n",
    "Программа должна вывести количество учеников, которые изучают только один предмет. Если таких учеников не окажется, то необходимо вывести `NO`."
   ]
  },
  {
   "cell_type": "markdown",
   "metadata": {},
   "source": [
    "**_Решение:_**"
   ]
  },
  {
   "cell_type": "code",
   "execution_count": 25,
   "metadata": {},
   "outputs": [
    {
     "name": "stdout",
     "output_type": "stream",
     "text": [
      "2\n",
      "3\n",
      "Хохлов\n",
      "Фадеев\n",
      "Ершов\n",
      "Ушаков\n",
      "Хохлов\n",
      "3\n"
     ]
    }
   ],
   "source": [
    "m, n = int(input()), int(input())\n",
    "names = [input() for i in range(n + m)]\n",
    "\n",
    "m_list = []\n",
    "n_list = []\n",
    "for i in names:\n",
    "    if i not in m_list and len(m_list) < m:\n",
    "        m_list.append(i)\n",
    "    else:\n",
    "        n_list.append(i)\n",
    "        \n",
    "res = len(set(m_list) ^ set(n_list))\n",
    "if res >= 1:\n",
    "    print(res)\n",
    "else:\n",
    "    print('NO')\n",
    "    "
   ]
  },
  {
   "cell_type": "markdown",
   "metadata": {},
   "source": [
    "**_Онлайн-школа BEEGEEK 2_**\n",
    "\n",
    "Руководителю онлайн-школы BEEGEEK захотелось узнать, кто из его учеников присутствовал на всех уроках с начала учебного года. Для каждого урока есть листок со списком присутствовавших учеников.\n",
    "\n",
    "Напишите программу, определяющую фамилии учеников, которые присутствовали на всех уроках.\n",
    "\n",
    "__Формат входных данных__  \n",
    "На вход программе в первой строке дается число $m$ – количество уроков, проведенных с начала учебного года. Далее идёт $m$ блоков строк, описывающих листки с фамилиями. На первой строке каждого блока указано количество фамилий $n_i$, затем идёт $n_i$ строчек с фамилиями тех, кто был на уроке $i$-ом уроке.\n",
    "\n",
    "__Формат выходных данных__  \n",
    "Программа должна вывести фамилии учеников, которые были на всех уроках, отсортированных в лексикографическом порядке. Каждая фамилия должна быть записана на отдельной строке."
   ]
  },
  {
   "cell_type": "markdown",
   "metadata": {},
   "source": [
    "**_Решение:_**"
   ]
  },
  {
   "cell_type": "code",
   "execution_count": 26,
   "metadata": {},
   "outputs": [
    {
     "name": "stdout",
     "output_type": "stream",
     "text": [
      "2\n",
      "4\n",
      "Черкасов\n",
      "Фокин\n",
      "Самойлов\n",
      "Устинов\n",
      "2\n",
      "Черкасов\n",
      "Устинов\n",
      "Устинов\n",
      "Черкасов\n"
     ]
    }
   ],
   "source": [
    "m = int(input())\n",
    "\n",
    "res = []\n",
    "for i in range(m):\n",
    "    n = int(input())\n",
    "    for j in range(n):\n",
    "        res.append(input())\n",
    "        \n",
    "res_set = set()\n",
    "\n",
    "for i in res:\n",
    "    if res.count(i) == m:\n",
    "        res_set.add(i)\n",
    "        \n",
    "print(*sorted(res_set), sep='\\n')\n"
   ]
  },
  {
   "cell_type": "markdown",
   "metadata": {},
   "source": [
    "### Словари"
   ]
  },
  {
   "attachments": {
    "dsdsada.png": {
     "image/png": "[encoded data removed]"
    }
   },
   "cell_type": "markdown",
   "metadata": {},
   "source": [
    "**_Набор сообщений_** \n",
    "\n",
    "На мобильных кнопочных телефонах текстовые сообщения можно отправлять с помощью цифровой клавиатуры. Поскольку с каждой клавишей связано несколько букв, для большинства букв требуется несколько нажатий клавиш. При однократном нажатии цифры генерируется первый символ, указанный для этой клавиши. Нажатие цифры $2, 3, 4$ или $5$ раз генерирует второй, третий, четвертый или пятый символ клавиши.\n",
    "\n",
    "![dsdsada.png](attachment:dsdsada.png)\n",
    "\n",
    "__Формат входных данных__   \n",
    "На вход программе подается одна строка – текстовое сообщение.\n",
    "\n",
    "__Формат выходных данных__  \n",
    "Программа должна вывести нажатия клавиш, необходимых для введенного сообщения."
   ]
  },
  {
   "cell_type": "markdown",
   "metadata": {},
   "source": [
    "**_Решение:_**"
   ]
  },
  {
   "cell_type": "code",
   "execution_count": 27,
   "metadata": {},
   "outputs": [
    {
     "name": "stdout",
     "output_type": "stream",
     "text": [
      "Hello, World!\n",
      "4433555555666110966677755531111"
     ]
    }
   ],
   "source": [
    "d = {\n",
    "    \"1\": \".,?!:\",\n",
    "    \"2\": \"ABC\",\n",
    "    \"3\": \"DEF\",\n",
    "    \"4\": \"GHI\",\n",
    "    \"5\": \"JKL\",\n",
    "    \"6\": \"MNO\",\n",
    "    \"7\": \"PQRS\",\n",
    "    \"8\": \"TUV\",\n",
    "    \"9\": \"WXYZ\",\n",
    "    \"0\": \" \"\n",
    "}\n",
    "n = input().upper()\n",
    "\n",
    "for el in n:\n",
    "    for key, value in d.items():    \n",
    "        if el in value:\n",
    "            print(key * (value.find(el) + 1), end='')\n",
    "            "
   ]
  },
  {
   "attachments": {
    "morse.png": {
     "image/png": "[encoded data removed]"
    }
   },
   "cell_type": "markdown",
   "metadata": {},
   "source": [
    "**_Код Морзе_**\n",
    "\n",
    "Код Морзе для представления цифр и букв использует тире и точки.\n",
    "\n",
    "Напишите программу для кодирования текстового сообщения в соответствии с кодом Морзе.\n",
    "\n",
    "![morse.png](attachment:morse.png)\n",
    "\n",
    "__Формат входных данных__  \n",
    "На вход программе подается одна строка – текстовое сообщение.\n",
    "\n",
    "__Формат выходных данных__  \n",
    "Программа должна вывести закодированное с помощью кода Морзе сообщение, оставляя пробел между каждым закодированным символом (последовательностью тире и точек)."
   ]
  },
  {
   "cell_type": "markdown",
   "metadata": {},
   "source": [
    "**_Решение:_**"
   ]
  },
  {
   "cell_type": "code",
   "execution_count": 28,
   "metadata": {},
   "outputs": [
    {
     "name": "stdout",
     "output_type": "stream",
     "text": [
      "SOS\n",
      "... --- ... "
     ]
    }
   ],
   "source": [
    "letters = [c for c in 'ABCDEFGHIJKLMNOPQRSTUVWXYZ0123456789']\n",
    "morse = ['.-', '-...', '-.-.', '-..', '.', '..-.', '--.', '....', '..', '.---', '-.-', '.-..', '--', '-.', '---', '.--.', '--.-', '.-.', '...', '-', '..-', '...-', '.--', '-..-', '-.--', '--..', '-----', '.----', '..---', '...--', '....-', '.....', '-....', '--...', '---..', '----.']\n",
    "\n",
    "dict_morse = dict(zip(letters, morse))\n",
    "n = input().upper()\n",
    "for el in n:\n",
    "    for key, value in dict_morse.items():\n",
    "        if el == key:\n",
    "            print(value, end=' ')\n",
    "            "
   ]
  },
  {
   "cell_type": "markdown",
   "metadata": {},
   "source": [
    "**_Самое редкое слово_**\n",
    "\n",
    "На вход программе подается строка текста. Напишите программу, которая выводит слово, которое встречается реже всего, без учета регистра. Если таких слов несколько, выведите то, которое меньше в лексикографическом порядке.\n",
    "\n",
    "__Формат входных данных__  \n",
    "На вход программе подается строка текста.\n",
    "\n",
    "__Формат выходных данных__  \n",
    "Программа должна вывести слово (в нижнем регистре), встречаемое реже всего."
   ]
  },
  {
   "cell_type": "markdown",
   "metadata": {},
   "source": [
    "**_Решение:_**"
   ]
  },
  {
   "cell_type": "code",
   "execution_count": 29,
   "metadata": {},
   "outputs": [
    {
     "name": "stdout",
     "output_type": "stream",
     "text": [
      "London is the capital of Great Britain. More than six million people live in London. London lies on both banks of the river Thames. It is the largest city in Europe and one of the largest cities in the world. London is not only the capital of the country, it is also a very big port, one of the greatest commercial centres in the world, a university city, and the seat of the government of Great Britain!\n",
      "also\n"
     ]
    }
   ],
   "source": [
    "txt = [i.strip('.,!?:;-') for i in input().lower().split()]\n",
    "result = {el: txt.count(el) for el in txt}\n",
    "\n",
    "print(min([key for key, value in result.items() if value == min(result.values())]))\n"
   ]
  },
  {
   "cell_type": "markdown",
   "metadata": {},
   "source": [
    "**_Исправление дубликатов_**\n",
    "\n",
    "На вход программе подается строка, содержащая строки-идентификаторы. Напишите программу, которая исправляет их так, чтобы в результирующей строке не было дубликатов. Для этого необходимо прибавлять к повторяющимся идентификаторам постфикс `_n`, где `n` – количество раз, сколько такой идентификатор уже встречался.\n",
    "\n",
    "__Формат входных данных__  \n",
    "На вход программе подается строка текста, содержащая строки-идентификаторы, разделенные символом пробела.\n",
    "\n",
    "__Формат выходных данных__  \n",
    "Программа должна вывести исправленную строку, не содержащую дубликатов сохранив при этом исходный порядок."
   ]
  },
  {
   "cell_type": "markdown",
   "metadata": {},
   "source": [
    "**_Решение:_**"
   ]
  },
  {
   "cell_type": "code",
   "execution_count": 31,
   "metadata": {},
   "outputs": [
    {
     "name": "stdout",
     "output_type": "stream",
     "text": [
      "a b c a a d c\n",
      "a b c a_1 a_2 d c_1 "
     ]
    }
   ],
   "source": [
    "txt = input().split()\n",
    "result = {}\n",
    "\n",
    "for el in txt:\n",
    "    result[el] = result.get(el, -1) + 1\n",
    "    if result[el] == 0:\n",
    "        print(el, end=' ')\n",
    "    else:\n",
    "        i = result[el]\n",
    "        print(el + '_' + str(i), end=' ')\n",
    "        "
   ]
  },
  {
   "cell_type": "markdown",
   "metadata": {},
   "source": [
    "**_Список студентов_**\n",
    "\n",
    "Даны три списка `student_ids, student_names, student_grades`, содержащие информацию о студентах.\n",
    "\n",
    "Дополните приведенный код, используя генератор, так чтобы получить список `result`, содержащий вложенные словари в соответствии с образцом: `[{'S001': {'Camila Rodriguez': 86}}, {'S002': {'Juan Cruz': 98}},...]`."
   ]
  },
  {
   "cell_type": "markdown",
   "metadata": {},
   "source": [
    "**_Решение:_**"
   ]
  },
  {
   "cell_type": "code",
   "execution_count": 33,
   "metadata": {},
   "outputs": [
    {
     "name": "stdout",
     "output_type": "stream",
     "text": [
      "[{'S001': {'Camila Rodriguez': 86}}, {'S002': {'Juan Cruz': 98}}, {'S003': {'Dan Richards': 89}}, {'S004': {'Sam Boyle': 92}}, {'S005': {'Batista Cesare': 45}}, {'S006': {'Francesco Totti': 67}}, {'S007': {'Khalid Hussain': 89}}, {'S008': {'Ethan Hawke': 90}}, {'S009': {'David Bowman': 100}}, {'S010': {'James Milner': 98}}, {'S011': {'Michael Owen': 10}}, {'S012': {'Gary Oldman': 96}}, {'S013': {'Tom Hardy': 93}}]\n"
     ]
    }
   ],
   "source": [
    "student_ids = ['S001', 'S002', 'S003', 'S004', 'S005', 'S006', 'S007', 'S008', 'S009', 'S010', 'S011', 'S012', 'S013']\n",
    "student_names = ['Camila Rodriguez', 'Juan Cruz', 'Dan Richards', 'Sam Boyle', 'Batista Cesare', 'Francesco Totti',\n",
    "                 'Khalid Hussain', 'Ethan Hawke', 'David Bowman', 'James Milner', 'Michael Owen', 'Gary Oldman',\n",
    "                 'Tom Hardy']\n",
    "student_grades = [86, 98, 89, 92, 45, 67, 89, 90, 100, 98, 10, 96, 93]\n",
    "\n",
    "result = [{x: {y: z}} for x, y, z in zip(student_ids, student_names, student_grades)]\n",
    "\n",
    "print(result)\n"
   ]
  },
  {
   "cell_type": "markdown",
   "metadata": {},
   "source": [
    "**_Слияние словарей_**\n",
    "\n",
    "Напишите функцию `merge()`, объединяющую словари в один общий. Функция должна принимать список словарей и возвращать словарь, каждый ключ которого содержит множество (тип данных `set`) уникальных значений собранных из всех словарей переданного списка."
   ]
  },
  {
   "cell_type": "markdown",
   "metadata": {},
   "source": [
    "**_Решение:_**"
   ]
  },
  {
   "cell_type": "code",
   "execution_count": 34,
   "metadata": {},
   "outputs": [
    {
     "name": "stdout",
     "output_type": "stream",
     "text": [
      "{'a': {1, 5}, 'b': {17, 2, 10}, 'c': {50, 100}, 'd': {777}}\n"
     ]
    }
   ],
   "source": [
    "def merge(values):\n",
    "    res = {}\n",
    "    for dct in values:\n",
    "        for k, v in dct.items():\n",
    "            res.setdefault(k, set()).add(v)\n",
    "    return res\n",
    "\n",
    "result = merge([{'a': 1, 'b': 2}, {'b': 10, 'c': 100}, {'a': 1, 'b': 17, 'c': 50}, {'a': 5, 'd': 777}])\n",
    "\n",
    "print(result)\n"
   ]
  },
  {
   "cell_type": "markdown",
   "metadata": {},
   "source": [
    "**_Опасный вирус_**\n",
    "\n",
    "В файловую систему компьютера, на котором развернута наша ❤️ платформа Stepik, проник опасный вирус и сломал контроль прав доступа к файлам. Говорят, вирус написал один из студентов курса Python для начинающих.\n",
    "\n",
    "Для каждого файла известно, с какими действиями можно к нему обращаться:\n",
    "\n",
    " - запись `W` (write, доступ на запись в файл);\n",
    " - чтение `R` (read, доступ на чтение из файла);\n",
    " - запуск `X` (execute, запуск на исполнение файла).\n",
    "Напишите программу для восстановления контроля прав доступа к файлам. Ваша программа для каждого запроса должна будет возвращать `OK` если выполняется допустимая операция, и `Access denied`, если операция недопустима.\n",
    "\n",
    "__Формат входных данных__  \n",
    "Программа получает на вход количество файлов $n$, содержащихся в файловой системе компьютера. Далее идет $n$ строк, на каждой имя файла и допустимые с ним операции, разделенные символом пробела. В следующей строке записано число $m$ — количество запросов к файлам, и затем $m$ строк с запросами вида операция файл. Одному и тому же файлу может быть адресовано любое количество запросов.\n",
    "\n",
    "__Формат выходных данных__  \n",
    "Программа должна вывести для каждого из $m$ запросов в отдельной строке `Access denied` или `OK`."
   ]
  },
  {
   "cell_type": "markdown",
   "metadata": {},
   "source": [
    "**_Решение:_**"
   ]
  },
  {
   "cell_type": "code",
   "execution_count": 36,
   "metadata": {},
   "outputs": [
    {
     "name": "stdout",
     "output_type": "stream",
     "text": [
      "2\n",
      "marvel_movies X\n",
      "dc_com X R\n",
      "2\n",
      "execute dc_com\n",
      "write dc_com\n",
      "OK\n",
      "Access denied\n"
     ]
    }
   ],
   "source": [
    "s = {'write': 'W', 'read': 'R', 'execute': 'X'}\n",
    "\n",
    "n = int(input())\n",
    "files = {}\n",
    "\n",
    "for _ in range(n):\n",
    "    txt = input().split()\n",
    "    files[txt[0]] = txt[1:]\n",
    "\n",
    "m = int(input())\n",
    "r = []\n",
    "\n",
    "for _ in range(m):\n",
    "    txt = input().split()\n",
    "    if s[txt[0]] in files.get(txt[1]):\n",
    "        r.append('OK')\n",
    "    else:\n",
    "        r.append('Access denied')\n",
    "\n",
    "print(*r, sep='\\n')\n"
   ]
  },
  {
   "cell_type": "markdown",
   "metadata": {},
   "source": [
    "**_Покупки в интернет-магазине_**\n",
    "\n",
    "Напишите программу для подсчета количества единиц каждого вида товара из приобретенных каждым покупателем интернет-магазина.\n",
    "\n",
    "__Формат входных данных__  \n",
    "На вход программе подается число $n$ — количество строк в базе данных о продажах интернет-магазина. Далее следует $n$ строк с записями вида покупатель товар количество, где покупатель — имя покупателя (строка без пробелов), товар — название товара (строка без пробелов), количество — количество приобретенных единиц товара (натуральное число).\n",
    "\n",
    "__Формат выходных данных__  \n",
    "Программа должна вывести список всех покупателей в лексикографическом порядке, после имени каждого покупателя — двоеточие, затем список названий всех приобретенных им товаров в лексикографическом порядке, после названия каждого товара — количество единиц товара. Информация о каждом товаре выводится на отдельной строке."
   ]
  },
  {
   "cell_type": "markdown",
   "metadata": {},
   "source": [
    "**_Решение:_**"
   ]
  },
  {
   "cell_type": "code",
   "execution_count": 37,
   "metadata": {},
   "outputs": [
    {
     "name": "stdout",
     "output_type": "stream",
     "text": [
      "5\n",
      "Руслан Пирог 1\n",
      "Тимур Карандаш 5\n",
      "Руслан Линейка 2\n",
      "Тимур Тетрадь 12\n",
      "Руслан Хлеб 3\n",
      "Руслан:\n",
      "Линейка 2\n",
      "Пирог 1\n",
      "Хлеб 3\n",
      "Тимур:\n",
      "Карандаш 5\n",
      "Тетрадь 12\n"
     ]
    }
   ],
   "source": [
    "n = int(input())\n",
    "\n",
    "d = {}\n",
    "for i in range(n):\n",
    "    a, b, c = input().split()\n",
    "    if a not in d:\n",
    "        d[a] = {b: int(c)}\n",
    "    elif a in d:\n",
    "        if b in d[a]:\n",
    "            d[a][b] += int(c)\n",
    "        else:\n",
    "            d[a][b] = int(c)\n",
    "\n",
    "q = sorted(d.items())\n",
    "for i in q:\n",
    "    print(i[0] + ':')\n",
    "    for k, v in sorted(i[1].items()):\n",
    "        print(k, v)\n",
    "        "
   ]
  },
  {
   "cell_type": "markdown",
   "metadata": {},
   "source": [
    "**_Бинго_**\n",
    "\n",
    "Для игры в бинго требуется карточка размером $5 \\times 5$, содержащая различные (уникальные) целые числа от $1$ до $75$ (включительно), при этом центральная клетка является пустой (она заполняется числом $0$).\n",
    "\n",
    "Напишите программу, которая с помощью модуля `random` генерирует и выводит случайную карточку для игры в бинго."
   ]
  },
  {
   "cell_type": "markdown",
   "metadata": {},
   "source": [
    "**_Решение:_**"
   ]
  },
  {
   "cell_type": "code",
   "execution_count": 40,
   "metadata": {},
   "outputs": [
    {
     "name": "stdout",
     "output_type": "stream",
     "text": [
      "69 74 41 72 36\n",
      "59 2 58 71 37\n",
      "20 48 0 21 25\n",
      "28 13 57 15 38\n",
      "44 7 40 6 31\n"
     ]
    }
   ],
   "source": [
    "import random\n",
    "\n",
    "n = 5\n",
    "res = set()\n",
    "\n",
    "while len(res) < n * n:\n",
    "    res.add(random.randint(1, 75))\n",
    "\n",
    "m = [[0] * n for _ in range(n)]\n",
    "for i in range(n):\n",
    "    for j in range(n):\n",
    "        m[i][j] = random.choice(list(res))\n",
    "        res.remove(m[i][j])\n",
    "\n",
    "m[2][2] = 0\n",
    "\n",
    "for row in m:\n",
    "    print(*row)\n",
    "    "
   ]
  },
  {
   "cell_type": "markdown",
   "metadata": {},
   "source": [
    "**_Тайный друг_**\n",
    "\n",
    "Напишите программу, которая случайным образом назначает каждому ученику его тайного друга, который будет вместе с ним решать задачи по программированию.\n",
    "\n",
    "__Формат входных данных__  \n",
    "На вход программе в первой строке подается число $n$ – общее количество учеников. Далее идут $n$ строк, содержащих имена и фамилии учеников.\n",
    "\n",
    "__Формат выходных данных__  \n",
    "Программа должна вывести имя и фамилию ученика (в соответствии с исходным порядком) и имя и фамилию его тайного друга, разделённые дефисом."
   ]
  },
  {
   "cell_type": "markdown",
   "metadata": {},
   "source": [
    "**_Решение:_**"
   ]
  },
  {
   "cell_type": "code",
   "execution_count": 41,
   "metadata": {},
   "outputs": [
    {
     "name": "stdout",
     "output_type": "stream",
     "text": [
      "3\n",
      "Светлана Зуева\n",
      "Аркадий Белых\n",
      "Борис Боков\n",
      "Светлана Зуева - Аркадий Белых\n",
      "Аркадий Белых - Борис Боков\n",
      "Борис Боков - Светлана Зуева\n"
     ]
    }
   ],
   "source": [
    "import random\n",
    "\n",
    "n = int(input())\n",
    "names = [input() for i in range(n)]\n",
    "\n",
    "d = {}\n",
    "while len(d) < n:\n",
    "    k = random.choice(names)\n",
    "    v = random.choice(names)\n",
    "    if k != v and v not in d.values():\n",
    "        d[k] = v\n",
    "\n",
    "for name in names:\n",
    "    print(f'{name} - {d[name]}')\n",
    "    "
   ]
  },
  {
   "cell_type": "markdown",
   "metadata": {},
   "source": [
    "**_Генератор паролей_**\n",
    "\n",
    "Напишите программу, которая с помощью модуля `random` генерирует $n$ паролей длиной $m$ символов, состоящих из строчных и прописных английских букв и цифр, кроме тех, которые легко перепутать между собой:\n",
    "\n",
    " - «l» (L маленькое);\n",
    " - «I» (i большое);\n",
    " - «1» (цифра);\n",
    " - «o» и «O» (большая и маленькая буквы);\n",
    " - «0» (цифра).  \n",
    " \n",
    "__Дополнительное условие:__ в каждом пароле обязательно должна присутствовать хотя бы одна цифра и как минимум по одной букве в верхнем и нижнем регистре.\n",
    "\n",
    "__Формат входных данных__  \n",
    "На вход программе подаются два числа $n$ и $m$, каждое на отдельной строке.\n",
    "\n",
    "__Формат выходных данных__  \n",
    "Программа должна вывести $n$ паролей длиной $m$ символов в соответствии с условием задачи, каждый на отдельной строке."
   ]
  },
  {
   "cell_type": "markdown",
   "metadata": {},
   "source": [
    "**_Решение:_**"
   ]
  },
  {
   "cell_type": "code",
   "execution_count": 43,
   "metadata": {},
   "outputs": [
    {
     "name": "stdout",
     "output_type": "stream",
     "text": [
      "9\n",
      "7\n",
      "6SLUknj\n",
      "hQTeb5q\n",
      "KX2tpmN\n",
      "pd7xMJA\n",
      "b9XK6Yc\n",
      "Gc3Hy7V\n",
      "Y5tXHeh\n",
      "yVnE54c\n",
      "xS49AjU\n"
     ]
    }
   ],
   "source": [
    "import random\n",
    "\n",
    "\n",
    "def generate_password(length):\n",
    "    chair = 'abcdefghijkmnpqrstuvwxyzABCDEFGHJKLMNPQRSTUVWXYZ23456789'\n",
    "    res = ''.join(random.sample(chair, length))\n",
    "    while res.isalpha() or res.islower() or res.isupper() or res.isdigit():\n",
    "        res = ''.join(random.sample(chair, length))\n",
    "    return res\n",
    "\n",
    "\n",
    "def generate_passwords(count, length):\n",
    "    return [generate_password(length) for _ in range(count)]\n",
    "\n",
    "\n",
    "n, m = int(input()), int(input())\n",
    "\n",
    "print(*generate_passwords(n, m), sep='\\n')\n"
   ]
  },
  {
   "cell_type": "markdown",
   "metadata": {},
   "source": [
    "### Модуль Fractions"
   ]
  },
  {
   "cell_type": "markdown",
   "metadata": {},
   "source": [
    "**_Юный математик_**\n",
    "\n",
    "Дима учится в седьмом классе и сейчас они проходят обыкновенные дроби с натуральными числителем и знаменателем. Вчера на уроке математики Дима узнал, что дробь называется правильной, если ее числитель меньше знаменателя, и несократимой, если нет равной ей дроби с меньшими натуральными числителем и знаменателем.\n",
    "\n",
    "Дима очень любит математику, поэтому дома он долго экспериментировал, придумывая и решая разные задачки с правильными несократимыми дробями. Одну из этих задач Дима предлагает решить вам с помощью компьютера.\n",
    "\n",
    "На вход программе подается натуральное число $n$. Напишите программу, которая находит наибольшую правильную несократимую дробь с суммой числителя и знаменателя равной $n$.\n",
    "\n",
    "__Формат входных данных__  \n",
    "На вход программе подается натуральное число $n$.\n",
    "\n",
    "__Формат выходных данных__  \n",
    "Программа должна вывести ответ на задачу."
   ]
  },
  {
   "cell_type": "markdown",
   "metadata": {},
   "source": [
    "**_Решение:_**"
   ]
  },
  {
   "cell_type": "code",
   "execution_count": 44,
   "metadata": {},
   "outputs": [
    {
     "name": "stdout",
     "output_type": "stream",
     "text": [
      "23\n",
      "11/12\n"
     ]
    }
   ],
   "source": [
    "from fractions import Fraction\n",
    "import math\n",
    "\n",
    "n = int(input())\n",
    "\n",
    "for i in range(1, n + 1):\n",
    "    k = n - i\n",
    "    if i < k and math.gcd(i, k) == 1:\n",
    "        res = Fraction(i, k)\n",
    "        \n",
    "print(res)\n"
   ]
  },
  {
   "cell_type": "markdown",
   "metadata": {},
   "source": [
    "### Функции с переменным количеством аргументов"
   ]
  },
  {
   "cell_type": "markdown",
   "metadata": {},
   "source": [
    "**_Среднее арифметическое_**\n",
    "\n",
    "Напишите функцию `mean()`, которая принимает произвольное количество аргументов и возвращает среднее арифметическое переданных в нее числовых (`int` или `float`) аргументов."
   ]
  },
  {
   "cell_type": "markdown",
   "metadata": {},
   "source": [
    "**_Решение:_**"
   ]
  },
  {
   "cell_type": "code",
   "execution_count": 57,
   "metadata": {},
   "outputs": [
    {
     "name": "stdout",
     "output_type": "stream",
     "text": [
      "0.0\n",
      "7.0\n",
      "2.0\n",
      "0.0\n",
      "3.5\n",
      "5.5\n"
     ]
    }
   ],
   "source": [
    "def mean(*args):\n",
    "    res = [i for i in args if type(i) in (int, float)]    \n",
    "    return sum(res) / len(res) if res else 0.0\n",
    "\n",
    "print(mean())\n",
    "print(mean(7))\n",
    "print(mean(1.5, True, ['stepik'], 'beegeek', 2.5, (1, 2)))\n",
    "print(mean(True, ['stepik'], 'beegeek', (1, 2)))\n",
    "print(mean(-1, 2, 3, 10, ('5')))\n",
    "print(mean(1, 2, 3, 4, 5, 6, 7, 8, 9, 10))\n"
   ]
  },
  {
   "cell_type": "markdown",
   "metadata": {},
   "source": [
    "**_Приветствие по образцу_**\n",
    "\n",
    "Напишите функцию `greet()`, которая принимает произвольное количество аргументов строк имен (как минимум одно) и возвращает приветствие в соответствии с образцом."
   ]
  },
  {
   "cell_type": "markdown",
   "metadata": {},
   "source": [
    "**_Решение:_**"
   ]
  },
  {
   "cell_type": "code",
   "execution_count": 58,
   "metadata": {
    "scrolled": true
   },
   "outputs": [
    {
     "name": "stdout",
     "output_type": "stream",
     "text": [
      "Hello, Timur!\n",
      "Hello, Timur and Roman!\n",
      "Hello, Timur and Roman and Ruslan!\n"
     ]
    }
   ],
   "source": [
    "def greet(name, *args):\n",
    "    return f\"Hello, {' and '.join([name, *args])}!\"\n",
    "\n",
    "print(greet('Timur'))\n",
    "print(greet('Timur', 'Roman'))\n",
    "print(greet('Timur', 'Roman', 'Ruslan'))\n"
   ]
  },
  {
   "cell_type": "markdown",
   "metadata": {},
   "source": [
    "**_Список продуктов_**\n",
    "\n",
    "Напишите функцию `print_products()`, которая принимает произвольное количество аргументов и выводит список продуктов (любая непустая строка) по образцу: `<номер продукта>) <название продукта>` (нумерация продуктов начинается с единицы). Если среди переданных аргументов нет ни одного продукта, необходимо вывести текст `Нет продуктов`."
   ]
  },
  {
   "cell_type": "markdown",
   "metadata": {},
   "source": [
    "**_Решение:_**"
   ]
  },
  {
   "cell_type": "code",
   "execution_count": 50,
   "metadata": {
    "scrolled": true
   },
   "outputs": [
    {
     "name": "stdout",
     "output_type": "stream",
     "text": [
      "1) Бананы\n",
      "2) Яблоки\n",
      "3) Макароны\n",
      "\n",
      "Нет продуктов\n"
     ]
    }
   ],
   "source": [
    "def print_products(*args):\n",
    "    r = [el for el in args if el and type(el) == str]\n",
    "    if r:\n",
    "        print(*[f'{i + 1}) {r[i]}' for i in range(len(r))], sep='\\n')\n",
    "    else:\n",
    "        print('Нет продуктов')\n",
    "        \n",
    "        \n",
    "print_products('Бананы', [1, 2], ('Stepik',), 'Яблоки', '', 'Макароны', 5, True)\n",
    "print()\n",
    "print_products([4], {}, 1, 2, {'Beegeek'}, '') \n"
   ]
  },
  {
   "cell_type": "markdown",
   "metadata": {},
   "source": [
    "### Анонимные функции"
   ]
  },
  {
   "cell_type": "markdown",
   "metadata": {},
   "source": [
    "**_Неотрицательное число_**\n",
    "\n",
    "Напишите функцию `is_non_negative_num`, используя синтаксис анонимных функций, которая принимает строковый аргумент и возвращает значение `True`, если переданный аргумент является __неотрицательным числом__ (целым или вещественным) и `False` в противном случае."
   ]
  },
  {
   "cell_type": "markdown",
   "metadata": {},
   "source": [
    "**_Решение:_**"
   ]
  },
  {
   "cell_type": "code",
   "execution_count": 51,
   "metadata": {},
   "outputs": [
    {
     "name": "stdout",
     "output_type": "stream",
     "text": [
      "False\n",
      "True\n",
      "False\n",
      "False\n",
      "True\n",
      "False\n",
      "False\n",
      "True\n"
     ]
    }
   ],
   "source": [
    "is_non_negative_num = lambda x: x.isdigit() or x.replace('.', '', 1).isdigit()\n",
    "\n",
    "print(is_non_negative_num('10.34ab'))\n",
    "print(is_non_negative_num('10.45'))\n",
    "print(is_non_negative_num('-18'))\n",
    "print(is_non_negative_num('-34.67'))\n",
    "print(is_non_negative_num('987'))\n",
    "print(is_non_negative_num('abcd'))\n",
    "print(is_non_negative_num('123.122.12'))\n",
    "print(is_non_negative_num('123.122'))\n"
   ]
  },
  {
   "cell_type": "markdown",
   "metadata": {},
   "source": [
    "**_Нечетные элементы_**\n",
    "\n",
    "Напишите программу, которая с помощью встроенных функций `map()` и `filter()` удаляет из списка `numbers` все нечетные элементы, большие $47$, а все четные элементы нацело делит на два (целочисленное деление – `//`). Полученные числа следует вывести на одной строке, разделив символом пробела и сохранив исходный порядок."
   ]
  },
  {
   "cell_type": "markdown",
   "metadata": {},
   "source": [
    "**_Решение:_**"
   ]
  },
  {
   "cell_type": "code",
   "execution_count": 52,
   "metadata": {},
   "outputs": [
    {
     "name": "stdout",
     "output_type": "stream",
     "text": [
      "23 17 17 28 13 1 3 41 37 40 27 47 17 50 18 33 33 41 40 40 20 17 16 8 5 8 20 18 4 19 4 33 21 36 16 41 35 32 39 27 43 35 24 17 19 20 45 28 40 45 27 13 3 2 23 26 39 37 15 33 29 44 47 37 22 1 19 18 16 5 33 30 47 4 18 47 23 33\n"
     ]
    }
   ],
   "source": [
    "numbers = [46, 61, 34, 17, 56, 26, 93, 1, 3, 82, 71, 37, 80, 27, 77, 94, 34, 100, 36, 81, 33, 81, 66, 83, 41, 80, 80,\n",
    "           93, 40, 34, 32, 16, 5, 16, 40, 93, 36, 65, 8, 19, 8, 75, 66, 21, 72, 32, 41, 59, 35, 64, 49, 78, 83, 27, 57,\n",
    "           53, 43, 35, 48, 17, 19, 40, 90, 57, 77, 56, 80, 95, 90, 27, 26, 6, 4, 23, 52, 39, 63, 74, 15, 66, 29, 88, 94,\n",
    "           37, 44, 2, 38, 36, 32, 49, 5, 33, 60, 94, 89, 8, 36, 94, 46, 33]\n",
    "\n",
    "res = list(filter(lambda x: x % 2 == 0 or x < 47, numbers))\n",
    "\n",
    "print(*map(lambda x: x // 2 if x % 2 == 0 else x, res))\n"
   ]
  },
  {
   "cell_type": "markdown",
   "metadata": {},
   "source": [
    "**_Значение многочлена_**\n",
    "\n",
    "Многочленом степени $n$ называется выражение вида:\n",
    "\n",
    "$$a_n x^n + a_{n-1} x^{n-1} +  ...  + a_2 x^2 + a_1 x + a_0$$\n",
    "\n",
    "где $a_n, a_{n-1}, ... , a_2, a_1, a_0$ - коэффициенты многочлена ($a \\neq 0$).\n",
    "\n",
    "__Формат входных данных__  \n",
    "На вход программе на первой строке подаются коэффициенты многочлена, разделенные символом пробела и целое число $x$ на второй строке. Напишите программу, которая вычисляет значение указанного многочлена при заданном значении $x$.\n",
    "\n",
    "__Формат выходных данных__  \n",
    "Программа должна вывести одно число — значение указанного многочлена при заданном значении $x$.\n",
    "\n",
    "Решение задачи необходимо оформить в виде функции `evaluate(coefficients, x)`, которая принимает список коэффициентов и значение аргумента. Функция `evaluate()` должна быть реализована на основе встроенных функций `map()` и `reduce()`."
   ]
  },
  {
   "cell_type": "markdown",
   "metadata": {},
   "source": [
    "**_Решение:_**"
   ]
  },
  {
   "cell_type": "code",
   "execution_count": 54,
   "metadata": {},
   "outputs": [
    {
     "name": "stdout",
     "output_type": "stream",
     "text": [
      "2 4 3\n",
      "10\n",
      "243\n"
     ]
    }
   ],
   "source": [
    "from functools import reduce\n",
    "import operator\n",
    "\n",
    "\n",
    "def evaluate(coefficients, arg):\n",
    "    x_list = [arg for _ in range(len(coefficients))]\n",
    "    m = list(map(lambda a, y, z: a*y**z, coefficients, x_list, range(len(coefficients) - 1, -1, -1)))\n",
    "    return reduce(operator.add, m, 0)\n",
    "\n",
    "\n",
    "s, x = list(map(int, input().split())), int(input())\n",
    "\n",
    "print(evaluate(s, x))\n"
   ]
  },
  {
   "cell_type": "markdown",
   "metadata": {},
   "source": [
    "### Работа с текстовыми файлами"
   ]
  },
  {
   "cell_type": "markdown",
   "metadata": {},
   "source": [
    "**_Загадка от Жака Фреско_**\n",
    "\n",
    "Однажды Жака Фреско спросили:\n",
    "\n",
    "> \"Если ты такой умный, почему не богатый?\"\n",
    "\n",
    "Жак не стал отвечать на столь провокационный вопрос, вместо этого он задал загадку спрашивающему:\n",
    "\n",
    "> \"Были разноцветные козлы. Сколько?\"\n",
    "\n",
    "> \"Сколько чего?\"\n",
    "\n",
    "> \"Сколько из них составляет более 7% от общего количества козлов?\"\n",
    "\n",
    "Вам доступен текстовый файл `goats.txt` в первой строке которого написано слово `COLOURS`, далее идет список всех возможных цветов козлов. Затем идет строка со словом `GOATS`, и далее непосредственно перечисление козлов разных цветов. Перечень козлов включает только строки из первого списка.\n",
    "\n",
    "Напишите программу создания файла `answer.txt` и вывода в него списка козлов, которые удовлетворяют условию загадки от Жака Фреско.\n",
    "\n",
    "__Формат входных данных__  \n",
    "На вход программе ничего не подается.\n",
    "\n",
    "__Формат выходных данных__  \n",
    "Программа должна создать файл с именем `answer.txt` и вывести в него в алфавитном порядке названия цветов козлов, которые удовлетворяют условию загадки Жака Фреско."
   ]
  },
  {
   "cell_type": "markdown",
   "metadata": {},
   "source": [
    "**_Решение:_**"
   ]
  },
  {
   "cell_type": "code",
   "execution_count": 61,
   "metadata": {},
   "outputs": [
    {
     "name": "stdout",
     "output_type": "stream",
     "text": [
      "Pink goat\n",
      "White goat\n",
      "\n"
     ]
    }
   ],
   "source": [
    "import pandas as pd\n",
    "\n",
    "data = pd.read_csv('goats.txt')\n",
    "\n",
    "colours = list(data['COLOURS'][:6])\n",
    "goats = list(data['COLOURS'][7:])\n",
    "all_goats = len(goats)\n",
    "\n",
    "res = [colour for colour in colours if goats.count(colour) / all_goats > 0.07]\n",
    "\n",
    "with open('answer.txt', 'w', encoding='utf-8') as w:\n",
    "    for el in sorted(res):\n",
    "        print(el, end='\\n', file=w)\n",
    "        \n",
    "\n",
    "answer = open('answer.txt')\n",
    "print(answer.read())\n",
    "        "
   ]
  },
  {
   "cell_type": "markdown",
   "metadata": {},
   "source": [
    "**_Конкатенация файлов_**\n",
    "\n",
    "На вход программе подается натуральное число $n$ и $n$ строк с названиями файлов. Напишите программу, которая создает файл `output.txt` и выводит в него содержимое всех файлов с указанными именами, не меняя их порядка.\n",
    "\n",
    "__Формат входных данных__  \n",
    "На вход программе подается натуральное число $n$ и $n$ строк названий существующих файлов.\n",
    "\n",
    "__Формат выходных данных__  \n",
    "Программа должна создать файл с именем `output.txt` в соответствии с условием задачи."
   ]
  },
  {
   "cell_type": "markdown",
   "metadata": {},
   "source": [
    "**_Решение:_**"
   ]
  },
  {
   "cell_type": "code",
   "execution_count": 75,
   "metadata": {},
   "outputs": [
    {
     "name": "stdout",
     "output_type": "stream",
     "text": [
      "2\n",
      "first file.txt\n",
      "second file.txt\n",
      "Python\n",
      "c++c#\n",
      "php\n"
     ]
    }
   ],
   "source": [
    "for _ in range(int(input())):\n",
    "    with open(input(), encoding='UTF-8') as file, open('output.txt', 'a', encoding='UTF-8') as output:\n",
    "        output.write(file.read())\n",
    "\n",
    "        \n",
    "with open('output.txt', encoding='UTF-8') as file:\n",
    "    print(file.read())\n",
    "    "
   ]
  },
  {
   "cell_type": "markdown",
   "metadata": {},
   "source": [
    "**_Лог файл_**\n",
    "\n",
    "Вам доступен текстовый файл `logfile.txt` с информацией о времени входа пользователя в систему и выхода из нее. Каждая строка файла содержит три значения, разделенные запятыми и символом пробела: имя пользователя, время входа, время выхода, где время указано в $24$-часовом формате.\n",
    "\n",
    "Напишите программу, которая создает файл `output.txt` и выводит в него имена всех пользователей (не меняя порядка следования), которые были в сети не менее часа.\n",
    "\n",
    "__Формат входных данных__  \n",
    "На вход программе ничего не подается.\n",
    "\n",
    "__Формат выходных данных__  \n",
    "Программа должна создать файл с именем `output.txt` в соответствии с условием задачи."
   ]
  },
  {
   "cell_type": "markdown",
   "metadata": {},
   "source": [
    "**_Решение:_**"
   ]
  },
  {
   "cell_type": "code",
   "execution_count": 76,
   "metadata": {},
   "outputs": [
    {
     "name": "stdout",
     "output_type": "stream",
     "text": [
      "Тимур Гуев\n",
      "Роман Гацалов\n",
      "Габолаев Георгий\n",
      "Гергиева Светлана\n",
      "Гуева Лариса\n",
      "Засеев Ирбек\n",
      "Гуева Лиза\n",
      "Харисов Артур\n",
      "Янченко Роман\n",
      "\n"
     ]
    }
   ],
   "source": [
    "import pandas as pd\n",
    "\n",
    "data = pd.read_csv('logfile.txt', header=None)\n",
    "\n",
    "\n",
    "def to_num(lst):\n",
    "    res = []\n",
    "    for el in lst:\n",
    "        h, m = el.strip().split(':')\n",
    "        res.append(int(h) * 60 + int(m))\n",
    "    return res\n",
    "\n",
    "\n",
    "data[3] = to_num(data[1])\n",
    "data[4] = to_num(data[2])\n",
    "\n",
    "with open('output.txt', 'w', encoding='utf-8') as output:\n",
    "    print(*data[0][data[4] - data[3] >= 60], file=output, sep='\\n')\n",
    "\n",
    "    \n",
    "with open('output.txt', encoding='utf-8') as file:\n",
    "    print(file.read())\n",
    "    "
   ]
  },
  {
   "cell_type": "markdown",
   "metadata": {},
   "source": [
    "**_Tail of a File_**\n",
    "\n",
    "На вход программе подается строка текста с именем текстового файла. Напишите программу, выводящую на экран последние $10$ строк данного файла.\n",
    "\n",
    "__Формат входных данных__  \n",
    "На вход программе подается строка текста с именем существующего текстового файла.\n",
    "\n",
    "__Формат выходных данных__  \n",
    "Программа должна вывести последние $10$ строк этого файла."
   ]
  },
  {
   "cell_type": "markdown",
   "metadata": {},
   "source": [
    "**_Решение:_**"
   ]
  },
  {
   "cell_type": "code",
   "execution_count": 77,
   "metadata": {},
   "outputs": [
    {
     "name": "stdout",
     "output_type": "stream",
     "text": [
      "file.txt\n",
      "of february is the day of the\n",
      "defenders of the motherland\n",
      "or the army day then comes\n",
      "easter and radonitsa the\n",
      "first of may is the labour\n",
      "day the ninth of may is\n",
      "victory day the third of july\n",
      "is independence day then comes\n",
      "the seventh of november the day\n",
      "of the october revolution and so on"
     ]
    }
   ],
   "source": [
    "with open(input(), encoding='utf-8') as file:\n",
    "    length = len(file.readlines())\n",
    "    file.seek(0)\n",
    "    for index, item in enumerate(file):        \n",
    "        if index >= (length - 10):            \n",
    "            print(item, end='')\n",
    "            "
   ]
  }
 ],
 "metadata": {
  "kernelspec": {
   "display_name": "Python 3",
   "language": "python",
   "name": "python3"
  },
  "language_info": {
   "codemirror_mode": {
    "name": "ipython",
    "version": 3
   },
   "file_extension": ".py",
   "mimetype": "text/x-python",
   "name": "python",
   "nbconvert_exporter": "python",
   "pygments_lexer": "ipython3",
   "version": "3.8.3"
  }
 },
 "nbformat": 4,
 "nbformat_minor": 4
}
